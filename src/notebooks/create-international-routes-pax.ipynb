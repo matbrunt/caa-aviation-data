{
 "cells": [
  {
   "cell_type": "code",
   "execution_count": 53,
   "metadata": {},
   "outputs": [],
   "source": [
    "import re\n",
    "import os\n",
    "import csv\n",
    "\n",
    "import pandas as pd\n",
    "import numpy as np\n",
    "\n",
    "from helpers import utils"
   ]
  },
  {
   "cell_type": "code",
   "execution_count": 75,
   "metadata": {},
   "outputs": [],
   "source": [
    "col_set_a = set(['rundate', 'this_month_charter_pax', 'foreign_region', 'report_period', 'last_month_total_pax', 'this_month_scheduled_pax', 'percent_change', 'foreign_country', 'last_month_charter_pax', 'last_month_scheduled_pax', 'this_month_total_pax', 'foreign_airport', 'uk_airport'])\n",
    "col_set_b = set(['rundate', 'this_month_charter_pax', 'foreign_region', 'last_month_total_pax', 'percent_change', 'UK_airport', 'foreign_country', 'last_month_charter_pax', 'last_month_scheduled_pax', 'this_month_total_pax', 'this_month_schedueld_pax', 'foreign_airport', 'reporting_period'])\n",
    "col_set_c = set(['rundate', 'this_period', 'foreign_region', 'foreign_country', 'UK_airport', 'foreign_airport', 'total_pax_this_period', 'total_pax_scheduled_this_period', 'total_pax_charter_this_period', 'total_pax_last_period', 'total_pax_scheduled_last_period', 'total_pax_charter_last_period', 'total_pax_percent'])"
   ]
  },
  {
   "cell_type": "code",
   "execution_count": 82,
   "metadata": {},
   "outputs": [
    {
     "name": "stdout",
     "output_type": "stream",
     "text": [
      "<class 'pandas.core.frame.DataFrame'>\n",
      "Int64Index: 260497 entries, 0 to 1385\n",
      "Data columns (total 12 columns):\n",
      "yearMonth                260497 non-null int64\n",
      "regionDest               260497 non-null object\n",
      "countryDest              260497 non-null object\n",
      "airportOrigin            260497 non-null object\n",
      "airportDest              260497 non-null object\n",
      "paxTotal                 260497 non-null int64\n",
      "paxScheduled             260497 non-null int64\n",
      "paxCharter               260497 non-null int64\n",
      "paxTotalPrevMonth        260497 non-null int64\n",
      "paxScheduledPrevMonth    260497 non-null int64\n",
      "paxCharterPrevMonth      260497 non-null int64\n",
      "momTotalPctChange        260497 non-null float64\n",
      "dtypes: float64(1), int64(7), object(4)\n",
      "memory usage: 25.8+ MB\n"
     ]
    }
   ],
   "source": [
    "monthly_passengers = list()\n",
    "extract_path = utils.get_project_path('data', 'external', 'air-passenger-data', 'extracted')\n",
    "for dirpath, dirnames, filenames in os.walk(extract_path):\n",
    "    dir_basename = os.path.basename(dirpath)\n",
    "    try:\n",
    "        if dir_basename.isdigit():\n",
    "            year_month = int(dir_basename)\n",
    "            if year_month > 200105:\n",
    "                filename = [x for x in filenames if x.endswith('.csv') and '12_1' in x][0]\n",
    "                filepath = os.path.join(dirpath, filename)\n",
    "                df = pd.read_csv(filepath, low_memory=False)\n",
    "                cols = set(df.columns.values.tolist())\n",
    "\n",
    "                if cols == col_set_a:\n",
    "                    df = (\n",
    "                        df\n",
    "                        .drop(['rundate'], axis=1)\n",
    "                        .rename(columns={\n",
    "                            'this_month_charter_pax': 'paxCharter',\n",
    "                            'foreign_region': 'regionDest',\n",
    "                            'report_period': 'yearMonth',\n",
    "                            'last_month_total_pax': 'paxTotalPrevMonth',\n",
    "                            'this_month_scheduled_pax': 'paxScheduled',\n",
    "                            'percent_change': 'momTotalPctChange',\n",
    "                            'foreign_country': 'countryDest',\n",
    "                            'last_month_charter_pax': 'paxCharterPrevMonth',\n",
    "                            'last_month_scheduled_pax': 'paxScheduledPrevMonth',\n",
    "                            'this_month_total_pax': 'paxTotal',\n",
    "                            'foreign_airport': 'airportDest',\n",
    "                            'uk_airport': 'airportOrigin'\n",
    "                        })\n",
    "                    )\n",
    "                    monthly_passengers.append(df)\n",
    "                elif cols == col_set_b:\n",
    "                    df = (\n",
    "                        df\n",
    "                        .drop(['rundate'], axis=1)\n",
    "                        .rename(columns={\n",
    "                            'this_month_charter_pax': 'paxCharter',\n",
    "                            'foreign_region': 'regionDest',\n",
    "                            'last_month_total_pax': 'paxTotalPrevMonth',\n",
    "                            'percent_change': 'momTotalPctChange',\n",
    "                            'UK_airport': 'airportOrigin',\n",
    "                            'foreign_country': 'countryDest',\n",
    "                            'last_month_charter_pax': 'paxCharterPrevMonth',\n",
    "                            'last_month_scheduled_pax': 'paxScheduledPrevMonth',\n",
    "                            'this_month_total_pax': 'paxTotal',\n",
    "                            'this_month_schedueld_pax': 'paxScheduled',\n",
    "                            'foreign_airport': 'airportDest',\n",
    "                            'reporting_period': 'yearMonth'\n",
    "                        })\n",
    "                    )\n",
    "                    monthly_passengers.append(df)\n",
    "                elif cols == col_set_c:\n",
    "                    df = (\n",
    "                        df\n",
    "                        .drop(['rundate'], axis=1)\n",
    "                        .rename(columns={\n",
    "                            'this_period': 'yearMonth',\n",
    "                            'foreign_region': 'regionDest',\n",
    "                            'foreign_country': 'countryDest',\n",
    "                            'UK_airport': 'airportOrigin',\n",
    "                            'foreign_airport': 'airportDest',\n",
    "                            'total_pax_this_period': 'paxTotal',\n",
    "                            'total_pax_scheduled_this_period': 'paxScheduled',\n",
    "                            'total_pax_charter_this_period': 'paxCharter',\n",
    "                            'total_pax_last_period': 'paxTotalPrevMonth',\n",
    "                            'total_pax_scheduled_last_period': 'paxScheduledPrevMonth',\n",
    "                            'total_pax_charter_last_period': 'paxCharterPrevMonth',\n",
    "                            'total_pax_percent': 'momTotalPctChange'\n",
    "                        })\n",
    "                    )\n",
    "                    monthly_passengers.append(df)\n",
    "                else:\n",
    "                    raise Exception('No matching column formats found')\n",
    "    except:\n",
    "        next\n",
    "        \n",
    "master_df = pd.concat(monthly_passengers)\n",
    "master_df.info()"
   ]
  },
  {
   "cell_type": "code",
   "execution_count": 83,
   "metadata": {},
   "outputs": [],
   "source": [
    "master_df.to_csv(utils.get_raw_file('international-routes-pax.csv'), index=False)"
   ]
  },
  {
   "cell_type": "code",
   "execution_count": 84,
   "metadata": {},
   "outputs": [
    {
     "data": {
      "text/plain": [
       "array([200106, 200107, 200108, 200109, 200110, 200111, 200112, 200201,\n",
       "       200202, 200203, 200204, 200205, 200206, 200207, 200208, 200209,\n",
       "       200210, 200211, 200212, 200301, 200302, 200303, 200304, 200305,\n",
       "       200306, 200307, 200308, 200309, 200310, 200311, 200312, 200401,\n",
       "       200402, 200403, 200404, 200405, 200406, 200407, 200408, 200409,\n",
       "       200410, 200411, 200412, 200501, 200502, 200503, 200504, 200505,\n",
       "       200506, 200507, 200508, 200509, 200510, 200511, 200512, 200601,\n",
       "       200602, 200603, 200604, 200605, 200606, 200607, 200608, 200609,\n",
       "       200610, 200611, 200612, 200701, 200702, 200703, 200704, 200705,\n",
       "       200706, 200707, 200708, 200709, 200710, 200711, 200712, 200801,\n",
       "       200802, 200803, 200804, 200805, 200806, 200807, 200808, 200809,\n",
       "       200810, 200811, 200812, 200901, 200902, 200903, 200904, 200905,\n",
       "       200906, 200907, 200908, 200909, 200910, 200911, 200912, 201001,\n",
       "       201002, 201003, 201004, 201005, 201006, 201007, 201008, 201009,\n",
       "       201010, 201011, 201012, 201101, 201102, 201103, 201104, 201105,\n",
       "       201106, 201107, 201108, 201109, 201110, 201111, 201112, 201201,\n",
       "       201202, 201203, 201204, 201205, 201206, 201207, 201208, 201209,\n",
       "       201210, 201211, 201212, 201301, 201302, 201303, 201304, 201305,\n",
       "       201306, 201307, 201308, 201309, 201310, 201311, 201312, 201401,\n",
       "       201402, 201403, 201404, 201405, 201406, 201407, 201408, 201409,\n",
       "       201410, 201411, 201412])"
      ]
     },
     "execution_count": 84,
     "metadata": {},
     "output_type": "execute_result"
    }
   ],
   "source": [
    "master_df.yearMonth.unique()"
   ]
  },
  {
   "cell_type": "code",
   "execution_count": null,
   "metadata": {},
   "outputs": [],
   "source": []
  }
 ],
 "metadata": {
  "kernelspec": {
   "display_name": "Python 3",
   "language": "python",
   "name": "python3"
  },
  "language_info": {
   "codemirror_mode": {
    "name": "ipython",
    "version": 3
   },
   "file_extension": ".py",
   "mimetype": "text/x-python",
   "name": "python",
   "nbconvert_exporter": "python",
   "pygments_lexer": "ipython3",
   "version": "3.6.4"
  }
 },
 "nbformat": 4,
 "nbformat_minor": 2
}
